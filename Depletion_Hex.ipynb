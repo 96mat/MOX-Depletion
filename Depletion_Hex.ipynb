{
 "cells": [
  {
   "cell_type": "code",
   "execution_count": 1,
   "id": "a97f120a-893a-4ad7-bfc5-b1f3babeee20",
   "metadata": {},
   "outputs": [
    {
     "name": "stderr",
     "output_type": "stream",
     "text": [
      "[Matteo-Device:69515] shmem: mmap: an error occurred while determining whether or not /tmp/ompi.Matteo-Device.1000/jf.0/2820341760/shared_mem_cuda_pool.Matteo-Device could be created.\n",
      "[Matteo-Device:69515] create_and_attach: unable to create shared memory BTL coordinating structure :: size 134217728 \n"
     ]
    }
   ],
   "source": [
    "import math\n",
    "import openmc\n",
    "import openmc.deplete\n",
    "import matplotlib.pyplot as plt\n",
    "import numpy as np\n",
    "from decimal import Decimal\n",
    "from math import log10"
   ]
  },
  {
   "cell_type": "code",
   "execution_count": 2,
   "id": "6a72912f-3571-4aab-9f98-5054a72b5ac4",
   "metadata": {},
   "outputs": [],
   "source": [
    "fuel=openmc.Material(name='fuel')\n",
    "fuel.add_nuclide('U235',1.0)\n",
    "fuel.set_density('g/cm3',10)\n",
    "fuel.depletable=True\n",
    "\n",
    "fuel2=openmc.Material(name='fuel2')\n",
    "fuel2.add_nuclide('U238',1)\n",
    "fuel2.set_density('g/cm3',10)\n",
    "fuel.depletable=True\n",
    "\n",
    "water=openmc.Material(name='water')\n",
    "water.add_nuclide('H1', 2.0)\n",
    "water.add_nuclide('O16', 1.0)\n",
    "water.set_density('g/cm3', 1.0)\n",
    "\n",
    "mats=openmc.Materials((fuel,fuel2,water))\n",
    "mats.export_to_xml()"
   ]
  },
  {
   "cell_type": "code",
   "execution_count": 3,
   "id": "dba28c0a-4dcc-4879-9970-a5088c19f9ec",
   "metadata": {},
   "outputs": [],
   "source": [
    "r_pin=openmc.ZCylinder(r=0.25)\n",
    "fuel_cell=openmc.Cell(fill=fuel, region=-r_pin)\n",
    "water_cell=openmc.Cell(fill=fuel , region=+r_pin)\n",
    "pin_universe=openmc.Universe(cells=(fuel_cell, water_cell))\n",
    "\n",
    "r_big_pin = openmc.ZCylinder(r=0.5)\n",
    "fuel2_cell = openmc.Cell(fill=fuel2, region=-r_big_pin)\n",
    "water2_cell = openmc.Cell(fill=water, region=+r_big_pin)\n",
    "big_pin_universe = openmc.Universe(cells=(fuel2_cell, water2_cell))\n",
    "\n",
    "all_water_cell=openmc.Cell(fill=water)\n",
    "outer_universe=openmc.Universe(cells=(all_water_cell,))"
   ]
  },
  {
   "cell_type": "code",
   "execution_count": 4,
   "id": "ef2f5b1f-0f62-4445-96d0-b8cd3c2b0c1a",
   "metadata": {},
   "outputs": [],
   "source": [
    "lat=openmc.HexLattice()"
   ]
  },
  {
   "cell_type": "code",
   "execution_count": 5,
   "id": "a0aeee22-4287-4947-906f-0ebaf6e37fc1",
   "metadata": {},
   "outputs": [],
   "source": [
    "lat.center=(0.,0.)\n",
    "lat.pitch=(1.25,)\n",
    "lat.outer=outer_universe"
   ]
  },
  {
   "cell_type": "code",
   "execution_count": 6,
   "id": "9d5d3f58-5c9b-4d6f-a6e6-f9073d96eeb5",
   "metadata": {},
   "outputs": [
    {
     "name": "stdout",
     "output_type": "stream",
     "text": [
      "            (0, 0)\n",
      "      (0,11)      (0, 1)\n",
      "(0,10)      (1, 0)      (0, 2)\n",
      "      (1, 5)      (1, 1)\n",
      "(0, 9)      (2, 0)      (0, 3)\n",
      "      (1, 4)      (1, 2)\n",
      "(0, 8)      (1, 3)      (0, 4)\n",
      "      (0, 7)      (0, 5)\n",
      "            (0, 6)\n"
     ]
    }
   ],
   "source": [
    "print(lat.show_indices(3))"
   ]
  },
  {
   "cell_type": "code",
   "execution_count": 7,
   "id": "cfb5699e-24f0-46c4-99dd-62a938f508bf",
   "metadata": {},
   "outputs": [
    {
     "name": "stdout",
     "output_type": "stream",
     "text": [
      "HexLattice\n",
      "\tID             =\t4\n",
      "\tName           =\t\n",
      "\tOrientation    =\ty\n",
      "\t# Rings        =\t3\n",
      "\t# Axial        =\tNone\n",
      "\tCenter         =\t(0.0, 0.0)\n",
      "\tPitch          =\t(1.25,)\n",
      "\tOuter          =\t3\n",
      "\tUniverses      \n",
      "  2\n",
      " 1 1\n",
      "1 2 1\n",
      " 1 1\n",
      "1 2 1\n",
      " 1 1\n",
      "1 1 1\n",
      " 1 1\n",
      "  1\n"
     ]
    }
   ],
   "source": [
    "outer_rig=[big_pin_universe]+[pin_universe]*11\n",
    "middle_rig=[big_pin_universe]+[pin_universe]*5\n",
    "inner_rig=[big_pin_universe]\n",
    "lat.universes=[outer_rig,middle_rig,inner_rig]\n",
    "print(lat)"
   ]
  },
  {
   "cell_type": "code",
   "execution_count": 8,
   "id": "d7f265c0-fd21-4e95-ad72-c0c8a59bc8e2",
   "metadata": {},
   "outputs": [],
   "source": [
    "outer_surface=openmc.ZCylinder(r=4.0,boundary_type='vacuum')\n",
    "main_cell=openmc.Cell(fill=lat, region=-outer_surface)\n",
    "geom=openmc.Geometry([main_cell])\n",
    "geom.export_to_xml()"
   ]
  },
  {
   "cell_type": "code",
   "execution_count": 9,
   "id": "a334238a-0d27-4090-89ff-71d34e85cbad",
   "metadata": {},
   "outputs": [
    {
     "data": {
      "image/png": "[encoded data removed]",
      "text/plain": [
       "<IPython.core.display.Image object>"
      ]
     },
     "execution_count": 9,
     "metadata": {},
     "output_type": "execute_result"
    }
   ],
   "source": [
    "p=openmc.Plot.from_geometry(geom)\n",
    "p.color_by='material'\n",
    "p.colors = colors = {\n",
    "    water: 'blue',\n",
    "    fuel: 'olive',\n",
    "    fuel2: 'yellow'\n",
    "}\n",
    "p.to_ipython_image()"
   ]
  },
  {
   "cell_type": "code",
   "execution_count": 10,
   "id": "fa2f7151-64b4-4511-b65e-0315c8f515c1",
   "metadata": {},
   "outputs": [
    {
     "data": {
      "image/png": "[encoded data removed]",
      "text/plain": [
       "<IPython.core.display.Image object>"
      ]
     },
     "execution_count": 10,
     "metadata": {},
     "output_type": "execute_result"
    }
   ],
   "source": [
    "# Change the orientation of the lattice and re-export the geometry\n",
    "lat.orientation = 'x'\n",
    "geom.export_to_xml()\n",
    "\n",
    "# Run OpenMC in plotting mode\n",
    "p.to_ipython_image()"
   ]
  },
  {
   "cell_type": "code",
   "execution_count": 11,
   "id": "27795ffe-902b-4f53-a265-9388485971a7",
   "metadata": {},
   "outputs": [
    {
     "name": "stderr",
     "output_type": "stream",
     "text": [
      "/home/orion/anaconda3/envs/openmc-env/lib/python3.12/site-packages/openmc/model/funcs.py:124: FutureWarning: The hexagonal_prism(...) function has been replaced by the HexagonalPrism(...) class. Future versions of OpenMC will not accept hexagonal_prism.\n",
      "  warn(\"The hexagonal_prism(...) function has been replaced by the \"\n"
     ]
    },
    {
     "data": {
      "image/png": "[encoded data removed]",
      "text/plain": [
       "<IPython.core.display.Image object>"
      ]
     },
     "execution_count": 11,
     "metadata": {},
     "output_type": "execute_result"
    }
   ],
   "source": [
    "main_cell.region = openmc.model.hexagonal_prism(\n",
    "    edge_length=3*lat.pitch[0],\n",
    "    orientation='x',\n",
    "    boundary_type='vacuum'\n",
    ")\n",
    "geom.export_to_xml()\n",
    "\n",
    "# Run OpenMC in plotting mode\n",
    "p.color_by = 'cell'\n",
    "p.to_ipython_image()"
   ]
  },
  {
   "cell_type": "code",
   "execution_count": 12,
   "id": "381793e6-1d17-4614-bfa1-5bc6b972bee6",
   "metadata": {},
   "outputs": [],
   "source": [
    "settings = openmc.Settings()\n",
    "settings.particles = 100\n",
    "settings.inactive = 10\n",
    "settings.batches = 50"
   ]
  },
  {
   "cell_type": "code",
   "execution_count": 13,
   "id": "28464085-07b7-43da-8e88-a8fe2306a20a",
   "metadata": {},
   "outputs": [],
   "source": [
    "fuel.volume = math.pi * 0.25 ** 2\n",
    "fuel2.volume = math.pi * (0.5-0.25) ** 2"
   ]
  },
  {
   "cell_type": "code",
   "execution_count": 17,
   "id": "c3e466be-832f-472b-a5fe-f174e2240d78",
   "metadata": {},
   "outputs": [],
   "source": [
    "chain = openmc.deplete.Chain.from_xml(\"../chain_endfb80_sfr.xml\")\n",
    "#chain.nuclide_dict"
   ]
  },
  {
   "cell_type": "code",
   "execution_count": 20,
   "id": "1a53b369-fefd-4733-a35b-7004dae2f4cd",
   "metadata": {},
   "outputs": [],
   "source": [
    "model = openmc.Model(geometry=geom, settings=settings)\n",
    "operator = openmc.deplete.CoupledOperator(model, \"../chain_endfb80_sfr.xml\")"
   ]
  },
  {
   "cell_type": "code",
   "execution_count": 21,
   "id": "adaeee87-5fa0-46f5-b2a7-e640614d0940",
   "metadata": {},
   "outputs": [],
   "source": [
    "power = 210\n",
    "time_steps = [30] * 6"
   ]
  },
  {
   "cell_type": "code",
   "execution_count": null,
   "id": "886b0b2d-f983-4108-913e-80c5f54d9144",
   "metadata": {},
   "outputs": [],
   "source": [
    "integrator.integrate()"
   ]
  }
 ],
 "metadata": {
  "kernelspec": {
   "display_name": "Python 3 (ipykernel)",
   "language": "python",
   "name": "python3"
  },
  "language_info": {
   "codemirror_mode": {
    "name": "ipython",
    "version": 3
   },
   "file_extension": ".py",
   "mimetype": "text/x-python",
   "name": "python",
   "nbconvert_exporter": "python",
   "pygments_lexer": "ipython3",
   "version": "3.12.7"
  }
 },
 "nbformat": 4,
 "nbformat_minor": 5
}
