{
 "cells": [
  {
   "cell_type": "code",
   "execution_count": 1,
   "id": "a97f120a-893a-4ad7-bfc5-b1f3babeee20",
   "metadata": {},
   "outputs": [
    {
     "name": "stderr",
     "output_type": "stream",
     "text": [
      "[Matteo-Device:90464] shmem: mmap: an error occurred while determining whether or not /tmp/ompi.Matteo-Device.1000/jf.0/1820393472/shared_mem_cuda_pool.Matteo-Device could be created.\n",
      "[Matteo-Device:90464] create_and_attach: unable to create shared memory BTL coordinating structure :: size 134217728 \n"
     ]
    }
   ],
   "source": [
    "import math\n",
    "import openmc\n",
    "import openmc.deplete\n",
    "import matplotlib.pyplot as plt\n",
    "import numpy as np\n",
    "from decimal import Decimal\n",
    "from math import log10"
   ]
  },
  {
   "cell_type": "code",
   "execution_count": 2,
   "id": "6a72912f-3571-4aab-9f98-5054a72b5ac4",
   "metadata": {},
   "outputs": [],
   "source": [
    "fuel=openmc.Material(name='fuel')\n",
    "fuel.add_nuclide('Pu238',2.332,'wo')\n",
    "fuel.add_nuclide('Pu239',56.873,'wo')\n",
    "fuel.add_nuclide('Pu240',26.997,'wo')\n",
    "fuel.add_nuclide('Pu241',6.105,'wo')\n",
    "fuel.add_nuclide('Pu242',7.693,'wo')\n",
    "fuel.add_nuclide('U234',0.003,'wo')\n",
    "fuel.add_nuclide('U235',0.404,'wo')\n",
    "fuel.add_nuclide('U236',0.010,'wo')\n",
    "fuel.add_nuclide('U238',99.583,'wo')\n",
    "fuel.set_density(\"g/cc\", 11)\n",
    "fuel.depletable=True\n",
    "#fuel.temperature=2500 #Kelvin\n",
    "\n",
    "\n",
    "clad=openmc.Material(name='clad')\n",
    "clad.add_element('Cr',15.0,'wo')\n",
    "clad.add_element('Ni',15.0,'wo')\n",
    "clad.add_element('Mo',1.5,'wo')\n",
    "clad.add_element('Mn',1.5,'wo')\n",
    "clad.add_element('Si',0.9,'wo')\n",
    "clad.add_element('Ti',0.4,'wo')\n",
    "clad.add_element('C',0.09,'wo')\n",
    "clad.set_density(\"g/cc\",5)\n",
    "clad.depletable=True\n",
    "#clad.temperature=900 #Kelvin\n",
    "\n",
    "LM=openmc.Material(name='LM')\n",
    "LM.add_element(\"Pb\",1)\n",
    "LM.set_density('g/cm3', 10.0)\n",
    "#LM.temperature=900 #Kelvin\n",
    "\n",
    "mats=openmc.Materials((fuel,clad,LM))\n",
    "mats.export_to_xml()"
   ]
  },
  {
   "cell_type": "code",
   "execution_count": 3,
   "id": "a750e7ca-ae16-42a9-9989-cf9078662615",
   "metadata": {},
   "outputs": [
    {
     "name": "stdout",
     "output_type": "stream",
     "text": [
      "(2,)\n"
     ]
    }
   ],
   "source": [
    "radii=[0.45,0.57]\n",
    "r_pin = [openmc.ZCylinder(r=r) for r in radii]\n",
    "r_big_pin = [openmc.ZCylinder(r=r) for r in radii]\n",
    "print(np.shape(r_pin))"
   ]
  },
  {
   "cell_type": "code",
   "execution_count": 4,
   "id": "dba28c0a-4dcc-4879-9970-a5088c19f9ec",
   "metadata": {},
   "outputs": [],
   "source": [
    "\n",
    "#r_pin=openmc.ZCylinder(r=0.45)\n",
    "fuel_cell=openmc.Cell(fill=fuel, region=-r_pin[0])\n",
    "#clad_cell=openmc.Cell(fill=clad, region=(-r_pin[0]<r)&(r>+r_pin))\n",
    "LM_cell=openmc.Cell(fill=LM , region=+r_pin[1])\n",
    "pin_universe=openmc.Universe(cells=(fuel_cell, LM_cell,))\n",
    "\n",
    "r_big_pin = openmc.ZCylinder(r=0.57)\n",
    "#fuel2_cell=openmc.Cell(fill=fuel, region=-r_big_pin[0])\n",
    "clad2_cell = openmc.Cell(fill=clad, region=-r_big_pin)\n",
    "LM2_cell = openmc.Cell(fill=LM, region=+r_big_pin)\n",
    "big_pin_universe = openmc.Universe(cells=(clad2_cell, LM2_cell))\n",
    "\n",
    "all_LM_cell=openmc.Cell(fill=LM)\n",
    "outer_universe=openmc.Universe(cells=(all_LM_cell,))"
   ]
  },
  {
   "cell_type": "code",
   "execution_count": 5,
   "id": "ef2f5b1f-0f62-4445-96d0-b8cd3c2b0c1a",
   "metadata": {},
   "outputs": [],
   "source": [
    "lat=openmc.HexLattice()"
   ]
  },
  {
   "cell_type": "code",
   "execution_count": 6,
   "id": "a0aeee22-4287-4947-906f-0ebaf6e37fc1",
   "metadata": {},
   "outputs": [],
   "source": [
    "lat.center=(0.,0.)\n",
    "lat.pitch=(1.26,)\n",
    "lat.outer=outer_universe"
   ]
  },
  {
   "cell_type": "code",
   "execution_count": 7,
   "id": "9d5d3f58-5c9b-4d6f-a6e6-f9073d96eeb5",
   "metadata": {},
   "outputs": [
    {
     "name": "stdout",
     "output_type": "stream",
     "text": [
      "            (0, 0)\n",
      "      (0,11)      (0, 1)\n",
      "(0,10)      (1, 0)      (0, 2)\n",
      "      (1, 5)      (1, 1)\n",
      "(0, 9)      (2, 0)      (0, 3)\n",
      "      (1, 4)      (1, 2)\n",
      "(0, 8)      (1, 3)      (0, 4)\n",
      "      (0, 7)      (0, 5)\n",
      "            (0, 6)\n"
     ]
    }
   ],
   "source": [
    "print(lat.show_indices(3))"
   ]
  },
  {
   "cell_type": "code",
   "execution_count": 8,
   "id": "cfb5699e-24f0-46c4-99dd-62a938f508bf",
   "metadata": {},
   "outputs": [
    {
     "name": "stdout",
     "output_type": "stream",
     "text": [
      "HexLattice\n",
      "\tID             =\t4\n",
      "\tName           =\t\n",
      "\tOrientation    =\ty\n",
      "\t# Rings        =\t4\n",
      "\t# Axial        =\tNone\n",
      "\tCenter         =\t(0.0, 0.0)\n",
      "\tPitch          =\t(1.26,)\n",
      "\tOuter          =\t3\n",
      "\tUniverses      \n",
      "   2\n",
      "  1 1\n",
      " 1 2 1\n",
      "1 1 1 1\n",
      " 1 2 1\n",
      "1 1 1 1\n",
      " 1 2 1\n",
      "1 1 1 1\n",
      " 1 1 1\n",
      "1 1 1 1\n",
      " 1 1 1\n",
      "  1 1\n",
      "   1\n"
     ]
    }
   ],
   "source": [
    "outer_rig=[big_pin_universe]+[pin_universe]*17\n",
    "middle_rig=[big_pin_universe]+[pin_universe]*11\n",
    "inner_rig = [big_pin_universe] + [pin_universe] * 5\n",
    "center_rig=[big_pin_universe]\n",
    "lat.universes=[outer_rig,middle_rig,inner_rig,center_rig]\n",
    "print(lat)"
   ]
  },
  {
   "cell_type": "code",
   "execution_count": 9,
   "id": "d7f265c0-fd21-4e95-ad72-c0c8a59bc8e2",
   "metadata": {},
   "outputs": [],
   "source": [
    "outer_surface=openmc.ZCylinder(r=6,boundary_type='vacuum')\n",
    "main_cell=openmc.Cell(fill=lat, region=-outer_surface)\n",
    "geom=openmc.Geometry([main_cell])\n",
    "geom.export_to_xml()"
   ]
  },
  {
   "cell_type": "code",
   "execution_count": 10,
   "id": "a334238a-0d27-4090-89ff-71d34e85cbad",
   "metadata": {},
   "outputs": [
    {
     "data": {
      "image/png": "[encoded data removed]",
      "text/plain": [
       "<IPython.core.display.Image object>"
      ]
     },
     "execution_count": 10,
     "metadata": {},
     "output_type": "execute_result"
    }
   ],
   "source": [
    "p=openmc.Plot.from_geometry(geom)\n",
    "p.color_by='material'\n",
    "p.colors = colors = {\n",
    "    LM: 'blue',\n",
    "    fuel: 'olive',\n",
    "    clad: 'yellow'\n",
    "}\n",
    "p.to_ipython_image()"
   ]
  },
  {
   "cell_type": "code",
   "execution_count": 11,
   "id": "fa2f7151-64b4-4511-b65e-0315c8f515c1",
   "metadata": {},
   "outputs": [],
   "source": [
    "# Change the orientation of the lattice and re-export the geometry\n",
    "lat.orientation = 'x'\n",
    "geom.export_to_xml()\n",
    "\n",
    "# Run OpenMC in plotting mode\n",
    "#p.to_ipython_image()"
   ]
  },
  {
   "cell_type": "code",
   "execution_count": 12,
   "id": "27795ffe-902b-4f53-a265-9388485971a7",
   "metadata": {},
   "outputs": [
    {
     "name": "stderr",
     "output_type": "stream",
     "text": [
      "/home/orion/anaconda3/envs/openmc-env/lib/python3.12/site-packages/openmc/model/funcs.py:124: FutureWarning: The hexagonal_prism(...) function has been replaced by the HexagonalPrism(...) class. Future versions of OpenMC will not accept hexagonal_prism.\n",
      "  warn(\"The hexagonal_prism(...) function has been replaced by the \"\n"
     ]
    },
    {
     "data": {
      "image/png": "[encoded data removed]",
      "text/plain": [
       "<IPython.core.display.Image object>"
      ]
     },
     "execution_count": 12,
     "metadata": {},
     "output_type": "execute_result"
    }
   ],
   "source": [
    "main_cell.region = openmc.model.hexagonal_prism(\n",
    "    edge_length=4*lat.pitch[0],\n",
    "    orientation='x',\n",
    "    boundary_type='vacuum'\n",
    ")\n",
    "geom.export_to_xml()\n",
    "\n",
    "# Run OpenMC in plotting mode\n",
    "p.color_by = 'cell'\n",
    "p.to_ipython_image()"
   ]
  },
  {
   "cell_type": "code",
   "execution_count": 13,
   "id": "381793e6-1d17-4614-bfa1-5bc6b972bee6",
   "metadata": {},
   "outputs": [],
   "source": [
    "settings = openmc.Settings()\n",
    "settings.particles = 1000\n",
    "settings.inactive = 10\n",
    "settings.batches = 50"
   ]
  },
  {
   "cell_type": "code",
   "execution_count": 14,
   "id": "28464085-07b7-43da-8e88-a8fe2306a20a",
   "metadata": {},
   "outputs": [],
   "source": [
    "fuel.volume = math.pi * 0.45 ** 2\n",
    "clad.volume = math.pi * (0.57-0.45) ** 2"
   ]
  },
  {
   "cell_type": "code",
   "execution_count": 15,
   "id": "c3e466be-832f-472b-a5fe-f174e2240d78",
   "metadata": {},
   "outputs": [],
   "source": [
    "chain = openmc.deplete.Chain.from_xml(\"../chain_endfb80_sfr.xml\")\n",
    "#chain.nuclide_dict"
   ]
  },
  {
   "cell_type": "code",
   "execution_count": 16,
   "id": "1a53b369-fefd-4733-a35b-7004dae2f4cd",
   "metadata": {},
   "outputs": [],
   "source": [
    "model = openmc.Model(geometry=geom, settings=settings)\n",
    "operator = openmc.deplete.CoupledOperator(model, \"../chain_endfb80_sfr.xml\")"
   ]
  },
  {
   "cell_type": "code",
   "execution_count": 17,
   "id": "adaeee87-5fa0-46f5-b2a7-e640614d0940",
   "metadata": {},
   "outputs": [],
   "source": [
    "power = 210\n",
    "time_steps = [30] * 6"
   ]
  },
  {
   "cell_type": "code",
   "execution_count": 18,
   "id": "4968642d-0f55-443c-af7d-797af763cbf2",
   "metadata": {},
   "outputs": [],
   "source": [
    "integrator = openmc.deplete.PredictorIntegrator(operator, time_steps, power, timestep_units='d')"
   ]
  },
  {
   "cell_type": "code",
   "execution_count": null,
   "id": "886b0b2d-f983-4108-913e-80c5f54d9144",
   "metadata": {},
   "outputs": [
    {
     "name": "stdout",
     "output_type": "stream",
     "text": [
      "                                %%%%%%%%%%%%%%%\n",
      "                           %%%%%%%%%%%%%%%%%%%%%%%%\n",
      "                        %%%%%%%%%%%%%%%%%%%%%%%%%%%%%%\n",
      "                      %%%%%%%%%%%%%%%%%%%%%%%%%%%%%%%%%%\n",
      "                    %%%%%%%%%%%%%%%%%%%%%%%%%%%%%%%%%%%%%%\n",
      "                   %%%%%%%%%%%%%%%%%%%%%%%%%%%%%%%%%%%%%%%%\n",
      "                                    %%%%%%%%%%%%%%%%%%%%%%%%\n",
      "                                     %%%%%%%%%%%%%%%%%%%%%%%%\n",
      "                 ###############      %%%%%%%%%%%%%%%%%%%%%%%%\n",
      "                ##################     %%%%%%%%%%%%%%%%%%%%%%%\n",
      "                ###################     %%%%%%%%%%%%%%%%%%%%%%%\n",
      "                ####################     %%%%%%%%%%%%%%%%%%%%%%\n",
      "                #####################     %%%%%%%%%%%%%%%%%%%%%\n",
      "                ######################     %%%%%%%%%%%%%%%%%%%%\n",
      "                #######################     %%%%%%%%%%%%%%%%%%\n",
      "                 #######################     %%%%%%%%%%%%%%%%%\n",
      "                 ######################     %%%%%%%%%%%%%%%%%\n",
      "                  ####################     %%%%%%%%%%%%%%%%%\n",
      "                    #################     %%%%%%%%%%%%%%%%%\n",
      "                     ###############     %%%%%%%%%%%%%%%%\n",
      "                       ############     %%%%%%%%%%%%%%%\n",
      "                          ########     %%%%%%%%%%%%%%\n",
      "                                      %%%%%%%%%%%\n",
      "\n",
      "                 | The OpenMC Monte Carlo Code\n",
      "       Copyright | 2011-2024 MIT, UChicago Argonne LLC, and contributors\n",
      "         License | https://docs.openmc.org/en/latest/license.html\n",
      "         Version | 0.15.0\n",
      "        Git SHA1 | 84fb85977f46e162fea8f5a20ea653a3ec62ac24\n",
      "       Date/Time | 2024-11-17 21:12:03\n",
      "   MPI Processes | 1\n",
      "  OpenMP Threads | 20\n",
      "\n",
      " Reading settings XML file...\n",
      " Reading cross sections XML file...\n",
      " Reading materials XML file...\n",
      " Reading geometry XML file...\n",
      " Reading U234 from /home/orion/Downloads/endfb-vii.1-hdf5/neutron/U234.h5\n",
      " Reading U235 from /home/orion/Downloads/endfb-vii.1-hdf5/neutron/U235.h5\n",
      " Reading U236 from /home/orion/Downloads/endfb-vii.1-hdf5/neutron/U236.h5\n",
      " Reading U238 from /home/orion/Downloads/endfb-vii.1-hdf5/neutron/U238.h5\n",
      " Reading Pu238 from /home/orion/Downloads/endfb-vii.1-hdf5/neutron/Pu238.h5\n",
      " Reading Pu239 from /home/orion/Downloads/endfb-vii.1-hdf5/neutron/Pu239.h5\n",
      " Reading Pu240 from /home/orion/Downloads/endfb-vii.1-hdf5/neutron/Pu240.h5\n",
      " Reading Pu241 from /home/orion/Downloads/endfb-vii.1-hdf5/neutron/Pu241.h5\n",
      " Reading Pu242 from /home/orion/Downloads/endfb-vii.1-hdf5/neutron/Pu242.h5\n",
      " Reading Si28 from /home/orion/Downloads/endfb-vii.1-hdf5/neutron/Si28.h5\n",
      " Reading Si29 from /home/orion/Downloads/endfb-vii.1-hdf5/neutron/Si29.h5\n",
      " Reading Si30 from /home/orion/Downloads/endfb-vii.1-hdf5/neutron/Si30.h5\n",
      " Reading Ti46 from /home/orion/Downloads/endfb-vii.1-hdf5/neutron/Ti46.h5\n",
      " Reading Ti47 from /home/orion/Downloads/endfb-vii.1-hdf5/neutron/Ti47.h5\n",
      " Reading Ti48 from /home/orion/Downloads/endfb-vii.1-hdf5/neutron/Ti48.h5\n",
      " Reading Ti49 from /home/orion/Downloads/endfb-vii.1-hdf5/neutron/Ti49.h5\n",
      " Reading Ti50 from /home/orion/Downloads/endfb-vii.1-hdf5/neutron/Ti50.h5\n",
      " Reading Cr50 from /home/orion/Downloads/endfb-vii.1-hdf5/neutron/Cr50.h5\n",
      " Reading Cr52 from /home/orion/Downloads/endfb-vii.1-hdf5/neutron/Cr52.h5\n",
      " Reading Cr53 from /home/orion/Downloads/endfb-vii.1-hdf5/neutron/Cr53.h5\n",
      " Reading Cr54 from /home/orion/Downloads/endfb-vii.1-hdf5/neutron/Cr54.h5\n",
      " Reading Mn55 from /home/orion/Downloads/endfb-vii.1-hdf5/neutron/Mn55.h5\n",
      " Reading Ni58 from /home/orion/Downloads/endfb-vii.1-hdf5/neutron/Ni58.h5\n",
      " Reading Ni60 from /home/orion/Downloads/endfb-vii.1-hdf5/neutron/Ni60.h5\n",
      " Reading Ni61 from /home/orion/Downloads/endfb-vii.1-hdf5/neutron/Ni61.h5\n",
      " Reading Ni62 from /home/orion/Downloads/endfb-vii.1-hdf5/neutron/Ni62.h5\n",
      " Reading Ni64 from /home/orion/Downloads/endfb-vii.1-hdf5/neutron/Ni64.h5\n",
      " Reading Mo92 from /home/orion/Downloads/endfb-vii.1-hdf5/neutron/Mo92.h5\n",
      " Reading Mo94 from /home/orion/Downloads/endfb-vii.1-hdf5/neutron/Mo94.h5\n",
      " Reading Mo95 from /home/orion/Downloads/endfb-vii.1-hdf5/neutron/Mo95.h5\n",
      " Reading Mo96 from /home/orion/Downloads/endfb-vii.1-hdf5/neutron/Mo96.h5\n",
      " Reading Mo97 from /home/orion/Downloads/endfb-vii.1-hdf5/neutron/Mo97.h5\n",
      " Reading Mo98 from /home/orion/Downloads/endfb-vii.1-hdf5/neutron/Mo98.h5\n",
      " Reading Mo100 from /home/orion/Downloads/endfb-vii.1-hdf5/neutron/Mo100.h5\n",
      " Reading C0 from /home/orion/Downloads/endfb-vii.1-hdf5/neutron/C0.h5\n",
      " Reading Pb204 from /home/orion/Downloads/endfb-vii.1-hdf5/neutron/Pb204.h5\n",
      " Reading Pb206 from /home/orion/Downloads/endfb-vii.1-hdf5/neutron/Pb206.h5\n",
      " Reading Pb207 from /home/orion/Downloads/endfb-vii.1-hdf5/neutron/Pb207.h5\n",
      " Reading Pb208 from /home/orion/Downloads/endfb-vii.1-hdf5/neutron/Pb208.h5\n",
      " Minimum neutron data temperature: 294 K\n",
      " Maximum neutron data temperature: 294 K\n",
      " Reading tallies XML file...\n",
      " Preparing distributed cell instances...\n",
      " Reading plot XML file...\n",
      " Writing summary.h5 file...\n",
      "[openmc.deplete] t=0.0 s, dt=2592000 s, source=210\n",
      " Reading H1 from /home/orion/Downloads/endfb-vii.1-hdf5/neutron/H1.h5\n",
      " Reading H2 from /home/orion/Downloads/endfb-vii.1-hdf5/neutron/H2.h5\n",
      " Reading H3 from /home/orion/Downloads/endfb-vii.1-hdf5/neutron/H3.h5\n",
      " Reading He3 from /home/orion/Downloads/endfb-vii.1-hdf5/neutron/He3.h5\n",
      " Reading He4 from /home/orion/Downloads/endfb-vii.1-hdf5/neutron/He4.h5\n",
      " Reading Li6 from /home/orion/Downloads/endfb-vii.1-hdf5/neutron/Li6.h5\n",
      " Reading Li7 from /home/orion/Downloads/endfb-vii.1-hdf5/neutron/Li7.h5\n",
      " Reading Be7 from /home/orion/Downloads/endfb-vii.1-hdf5/neutron/Be7.h5\n",
      " Reading Be9 from /home/orion/Downloads/endfb-vii.1-hdf5/neutron/Be9.h5\n",
      " Reading B10 from /home/orion/Downloads/endfb-vii.1-hdf5/neutron/B10.h5\n",
      " Reading B11 from /home/orion/Downloads/endfb-vii.1-hdf5/neutron/B11.h5\n",
      " Reading N14 from /home/orion/Downloads/endfb-vii.1-hdf5/neutron/N14.h5\n",
      " Reading N15 from /home/orion/Downloads/endfb-vii.1-hdf5/neutron/N15.h5\n",
      " Reading O16 from /home/orion/Downloads/endfb-vii.1-hdf5/neutron/O16.h5\n",
      " Reading O17 from /home/orion/Downloads/endfb-vii.1-hdf5/neutron/O17.h5\n",
      " Reading F19 from /home/orion/Downloads/endfb-vii.1-hdf5/neutron/F19.h5\n",
      " Reading Na22 from /home/orion/Downloads/endfb-vii.1-hdf5/neutron/Na22.h5\n"
     ]
    },
    {
     "name": "stderr",
     "output_type": "stream",
     "text": [
      " WARNING: Negative value(s) found on probability table for nuclide Na22 at 250K\n",
      " WARNING: Negative value(s) found on probability table for nuclide Na22 at 294K\n",
      " WARNING: Negative value(s) found on probability table for nuclide Na22 at 600K\n",
      " WARNING: Negative value(s) found on probability table for nuclide Na22 at 900K\n",
      " WARNING: Negative value(s) found on probability table for nuclide Na22 at 1200K\n",
      " WARNING: Negative value(s) found on probability table for nuclide Na22 at 2500K\n"
     ]
    },
    {
     "name": "stdout",
     "output_type": "stream",
     "text": [
      " Reading Na23 from /home/orion/Downloads/endfb-vii.1-hdf5/neutron/Na23.h5\n",
      " Reading Mg24 from /home/orion/Downloads/endfb-vii.1-hdf5/neutron/Mg24.h5\n",
      " Reading Mg25 from /home/orion/Downloads/endfb-vii.1-hdf5/neutron/Mg25.h5\n",
      " Reading Mg26 from /home/orion/Downloads/endfb-vii.1-hdf5/neutron/Mg26.h5\n",
      " Reading Al27 from /home/orion/Downloads/endfb-vii.1-hdf5/neutron/Al27.h5\n",
      " Reading P31 from /home/orion/Downloads/endfb-vii.1-hdf5/neutron/P31.h5\n",
      " Reading S32 from /home/orion/Downloads/endfb-vii.1-hdf5/neutron/S32.h5\n",
      " Reading S33 from /home/orion/Downloads/endfb-vii.1-hdf5/neutron/S33.h5\n",
      " Reading S34 from /home/orion/Downloads/endfb-vii.1-hdf5/neutron/S34.h5\n",
      " Reading S36 from /home/orion/Downloads/endfb-vii.1-hdf5/neutron/S36.h5\n",
      " Reading Cl35 from /home/orion/Downloads/endfb-vii.1-hdf5/neutron/Cl35.h5\n",
      " Reading Cl37 from /home/orion/Downloads/endfb-vii.1-hdf5/neutron/Cl37.h5\n",
      " Reading Ar36 from /home/orion/Downloads/endfb-vii.1-hdf5/neutron/Ar36.h5\n",
      " Reading Ar38 from /home/orion/Downloads/endfb-vii.1-hdf5/neutron/Ar38.h5\n",
      " Reading Ar40 from /home/orion/Downloads/endfb-vii.1-hdf5/neutron/Ar40.h5\n"
     ]
    },
    {
     "name": "stderr",
     "output_type": "stream",
     "text": [
      " WARNING: Negative value(s) found on probability table for nuclide Ar36 at 250K\n",
      " WARNING: Negative value(s) found on probability table for nuclide Ar36 at 294K\n",
      " WARNING: Negative value(s) found on probability table for nuclide Ar36 at 600K\n",
      " WARNING: Negative value(s) found on probability table for nuclide Ar36 at 900K\n",
      " WARNING: Negative value(s) found on probability table for nuclide Ar36 at 1200K\n",
      " WARNING: Negative value(s) found on probability table for nuclide Ar36 at 2500K\n"
     ]
    },
    {
     "name": "stdout",
     "output_type": "stream",
     "text": [
      " Reading K39 from /home/orion/Downloads/endfb-vii.1-hdf5/neutron/K39.h5\n",
      " Reading K40 from /home/orion/Downloads/endfb-vii.1-hdf5/neutron/K40.h5\n",
      " Reading K41 from /home/orion/Downloads/endfb-vii.1-hdf5/neutron/K41.h5\n",
      " Reading Ca40 from /home/orion/Downloads/endfb-vii.1-hdf5/neutron/Ca40.h5\n",
      " Reading Ca42 from /home/orion/Downloads/endfb-vii.1-hdf5/neutron/Ca42.h5\n",
      " Reading Ca43 from /home/orion/Downloads/endfb-vii.1-hdf5/neutron/Ca43.h5\n",
      " Reading Ca44 from /home/orion/Downloads/endfb-vii.1-hdf5/neutron/Ca44.h5\n",
      " Reading Ca46 from /home/orion/Downloads/endfb-vii.1-hdf5/neutron/Ca46.h5\n",
      " Reading Ca48 from /home/orion/Downloads/endfb-vii.1-hdf5/neutron/Ca48.h5\n",
      " Reading Sc45 from /home/orion/Downloads/endfb-vii.1-hdf5/neutron/Sc45.h5\n",
      " Reading V50 from /home/orion/Downloads/endfb-vii.1-hdf5/neutron/V50.h5\n",
      " Reading V51 from /home/orion/Downloads/endfb-vii.1-hdf5/neutron/V51.h5\n",
      " Reading Fe54 from /home/orion/Downloads/endfb-vii.1-hdf5/neutron/Fe54.h5\n",
      " Reading Fe56 from /home/orion/Downloads/endfb-vii.1-hdf5/neutron/Fe56.h5\n",
      " Reading Fe57 from /home/orion/Downloads/endfb-vii.1-hdf5/neutron/Fe57.h5\n",
      " Reading Fe58 from /home/orion/Downloads/endfb-vii.1-hdf5/neutron/Fe58.h5\n",
      " Reading Co58 from /home/orion/Downloads/endfb-vii.1-hdf5/neutron/Co58.h5\n",
      " Reading Co58_m1 from /home/orion/Downloads/endfb-vii.1-hdf5/neutron/Co58_m1.h5\n",
      " Reading Co59 from /home/orion/Downloads/endfb-vii.1-hdf5/neutron/Co59.h5\n",
      " Reading Ni59 from /home/orion/Downloads/endfb-vii.1-hdf5/neutron/Ni59.h5\n",
      " Reading Cu63 from /home/orion/Downloads/endfb-vii.1-hdf5/neutron/Cu63.h5\n",
      " Reading Cu65 from /home/orion/Downloads/endfb-vii.1-hdf5/neutron/Cu65.h5\n",
      " Reading Zn64 from /home/orion/Downloads/endfb-vii.1-hdf5/neutron/Zn64.h5\n",
      " Reading Zn65 from /home/orion/Downloads/endfb-vii.1-hdf5/neutron/Zn65.h5\n",
      " Reading Zn66 from /home/orion/Downloads/endfb-vii.1-hdf5/neutron/Zn66.h5\n",
      " Reading Zn67 from /home/orion/Downloads/endfb-vii.1-hdf5/neutron/Zn67.h5\n",
      " Reading Zn68 from /home/orion/Downloads/endfb-vii.1-hdf5/neutron/Zn68.h5\n",
      " Reading Zn70 from /home/orion/Downloads/endfb-vii.1-hdf5/neutron/Zn70.h5\n",
      " Reading Ga69 from /home/orion/Downloads/endfb-vii.1-hdf5/neutron/Ga69.h5\n",
      " Reading Ga71 from /home/orion/Downloads/endfb-vii.1-hdf5/neutron/Ga71.h5\n",
      " Reading Ge70 from /home/orion/Downloads/endfb-vii.1-hdf5/neutron/Ge70.h5\n",
      " Reading Ge72 from /home/orion/Downloads/endfb-vii.1-hdf5/neutron/Ge72.h5\n",
      " Reading Ge73 from /home/orion/Downloads/endfb-vii.1-hdf5/neutron/Ge73.h5\n",
      " Reading Ge74 from /home/orion/Downloads/endfb-vii.1-hdf5/neutron/Ge74.h5\n",
      " Reading Ge76 from /home/orion/Downloads/endfb-vii.1-hdf5/neutron/Ge76.h5\n",
      " Reading As74 from /home/orion/Downloads/endfb-vii.1-hdf5/neutron/As74.h5\n",
      " Reading As75 from /home/orion/Downloads/endfb-vii.1-hdf5/neutron/As75.h5\n",
      " Reading Se74 from /home/orion/Downloads/endfb-vii.1-hdf5/neutron/Se74.h5\n",
      " Reading Se76 from /home/orion/Downloads/endfb-vii.1-hdf5/neutron/Se76.h5\n",
      " Reading Se77 from /home/orion/Downloads/endfb-vii.1-hdf5/neutron/Se77.h5\n",
      " Reading Se78 from /home/orion/Downloads/endfb-vii.1-hdf5/neutron/Se78.h5\n",
      " Reading Se79 from /home/orion/Downloads/endfb-vii.1-hdf5/neutron/Se79.h5\n",
      " Reading Se80 from /home/orion/Downloads/endfb-vii.1-hdf5/neutron/Se80.h5\n",
      " Reading Se82 from /home/orion/Downloads/endfb-vii.1-hdf5/neutron/Se82.h5\n",
      " Reading Br79 from /home/orion/Downloads/endfb-vii.1-hdf5/neutron/Br79.h5\n",
      " Reading Br81 from /home/orion/Downloads/endfb-vii.1-hdf5/neutron/Br81.h5\n"
     ]
    },
    {
     "name": "stderr",
     "output_type": "stream",
     "text": [
      " WARNING: Negative value(s) found on probability table for nuclide Se79 at 250K\n",
      " WARNING: Negative value(s) found on probability table for nuclide Se79 at 294K\n",
      " WARNING: Negative value(s) found on probability table for nuclide Se79 at 600K\n",
      " WARNING: Negative value(s) found on probability table for nuclide Se79 at 900K\n",
      " WARNING: Negative value(s) found on probability table for nuclide Se79 at 1200K\n"
     ]
    },
    {
     "name": "stdout",
     "output_type": "stream",
     "text": [
      " Reading Kr78 from /home/orion/Downloads/endfb-vii.1-hdf5/neutron/Kr78.h5\n",
      " Reading Kr80 from /home/orion/Downloads/endfb-vii.1-hdf5/neutron/Kr80.h5\n",
      " Reading Kr82 from /home/orion/Downloads/endfb-vii.1-hdf5/neutron/Kr82.h5\n",
      " Reading Kr83 from /home/orion/Downloads/endfb-vii.1-hdf5/neutron/Kr83.h5\n",
      " Reading Kr84 from /home/orion/Downloads/endfb-vii.1-hdf5/neutron/Kr84.h5\n",
      " Reading Kr85 from /home/orion/Downloads/endfb-vii.1-hdf5/neutron/Kr85.h5\n",
      " Reading Kr86 from /home/orion/Downloads/endfb-vii.1-hdf5/neutron/Kr86.h5\n",
      " Reading Rb85 from /home/orion/Downloads/endfb-vii.1-hdf5/neutron/Rb85.h5\n",
      " Reading Rb86 from /home/orion/Downloads/endfb-vii.1-hdf5/neutron/Rb86.h5\n",
      " Reading Rb87 from /home/orion/Downloads/endfb-vii.1-hdf5/neutron/Rb87.h5\n",
      " Reading Sr84 from /home/orion/Downloads/endfb-vii.1-hdf5/neutron/Sr84.h5\n",
      " Reading Sr86 from /home/orion/Downloads/endfb-vii.1-hdf5/neutron/Sr86.h5\n",
      " Reading Sr87 from /home/orion/Downloads/endfb-vii.1-hdf5/neutron/Sr87.h5\n",
      " Reading Sr88 from /home/orion/Downloads/endfb-vii.1-hdf5/neutron/Sr88.h5\n",
      " Reading Sr89 from /home/orion/Downloads/endfb-vii.1-hdf5/neutron/Sr89.h5\n",
      " Reading Sr90 from /home/orion/Downloads/endfb-vii.1-hdf5/neutron/Sr90.h5\n",
      " Reading Y89 from /home/orion/Downloads/endfb-vii.1-hdf5/neutron/Y89.h5\n",
      " Reading Y90 from /home/orion/Downloads/endfb-vii.1-hdf5/neutron/Y90.h5\n",
      " Reading Y91 from /home/orion/Downloads/endfb-vii.1-hdf5/neutron/Y91.h5\n",
      " Reading Zr90 from /home/orion/Downloads/endfb-vii.1-hdf5/neutron/Zr90.h5\n",
      " Reading Zr91 from /home/orion/Downloads/endfb-vii.1-hdf5/neutron/Zr91.h5\n",
      " Reading Zr92 from /home/orion/Downloads/endfb-vii.1-hdf5/neutron/Zr92.h5\n",
      " Reading Zr93 from /home/orion/Downloads/endfb-vii.1-hdf5/neutron/Zr93.h5\n",
      " Reading Zr94 from /home/orion/Downloads/endfb-vii.1-hdf5/neutron/Zr94.h5\n",
      " Reading Zr95 from /home/orion/Downloads/endfb-vii.1-hdf5/neutron/Zr95.h5\n",
      " Reading Zr96 from /home/orion/Downloads/endfb-vii.1-hdf5/neutron/Zr96.h5\n",
      " Reading Nb93 from /home/orion/Downloads/endfb-vii.1-hdf5/neutron/Nb93.h5\n",
      " Reading Nb94 from /home/orion/Downloads/endfb-vii.1-hdf5/neutron/Nb94.h5\n",
      " Reading Nb95 from /home/orion/Downloads/endfb-vii.1-hdf5/neutron/Nb95.h5\n",
      " Reading Mo99 from /home/orion/Downloads/endfb-vii.1-hdf5/neutron/Mo99.h5\n"
     ]
    },
    {
     "name": "stderr",
     "output_type": "stream",
     "text": [
      " WARNING: Negative value(s) found on probability table for nuclide Nb94 at 250K\n",
      " WARNING: Negative value(s) found on probability table for nuclide Nb94 at 294K\n",
      " WARNING: Negative value(s) found on probability table for nuclide Nb94 at 600K\n",
      " WARNING: Negative value(s) found on probability table for nuclide Nb94 at 900K\n",
      " WARNING: Negative value(s) found on probability table for nuclide Nb94 at 1200K\n",
      " WARNING: Negative value(s) found on probability table for nuclide Nb94 at 2500K\n",
      " WARNING: Negative value(s) found on probability table for nuclide Nb95 at 250K\n",
      " WARNING: Negative value(s) found on probability table for nuclide Nb95 at 294K\n",
      " WARNING: Negative value(s) found on probability table for nuclide Nb95 at 600K\n",
      " WARNING: Negative value(s) found on probability table for nuclide Nb95 at 900K\n",
      " WARNING: Negative value(s) found on probability table for nuclide Nb95 at 1200K\n",
      " WARNING: Negative value(s) found on probability table for nuclide Mo99 at 250K\n",
      " WARNING: Negative value(s) found on probability table for nuclide Mo99 at 294K\n",
      " WARNING: Negative value(s) found on probability table for nuclide Mo99 at 600K\n",
      " WARNING: Negative value(s) found on probability table for nuclide Mo99 at 900K\n",
      " WARNING: Negative value(s) found on probability table for nuclide Mo99 at 1200K\n",
      " WARNING: Negative value(s) found on probability table for nuclide Mo99 at 2500K\n"
     ]
    },
    {
     "name": "stdout",
     "output_type": "stream",
     "text": [
      " Reading Tc99 from /home/orion/Downloads/endfb-vii.1-hdf5/neutron/Tc99.h5\n",
      " Reading Ru96 from /home/orion/Downloads/endfb-vii.1-hdf5/neutron/Ru96.h5\n",
      " Reading Ru98 from /home/orion/Downloads/endfb-vii.1-hdf5/neutron/Ru98.h5\n",
      " Reading Ru99 from /home/orion/Downloads/endfb-vii.1-hdf5/neutron/Ru99.h5\n",
      " Reading Ru100 from /home/orion/Downloads/endfb-vii.1-hdf5/neutron/Ru100.h5\n",
      " Reading Ru101 from /home/orion/Downloads/endfb-vii.1-hdf5/neutron/Ru101.h5\n",
      " Reading Ru102 from /home/orion/Downloads/endfb-vii.1-hdf5/neutron/Ru102.h5\n",
      " Reading Ru103 from /home/orion/Downloads/endfb-vii.1-hdf5/neutron/Ru103.h5\n",
      " Reading Ru104 from /home/orion/Downloads/endfb-vii.1-hdf5/neutron/Ru104.h5\n",
      " Reading Ru105 from /home/orion/Downloads/endfb-vii.1-hdf5/neutron/Ru105.h5\n",
      " Reading Ru106 from /home/orion/Downloads/endfb-vii.1-hdf5/neutron/Ru106.h5\n",
      " Reading Rh103 from /home/orion/Downloads/endfb-vii.1-hdf5/neutron/Rh103.h5\n",
      " Reading Rh105 from /home/orion/Downloads/endfb-vii.1-hdf5/neutron/Rh105.h5\n",
      " Reading Pd102 from /home/orion/Downloads/endfb-vii.1-hdf5/neutron/Pd102.h5\n",
      " Reading Pd104 from /home/orion/Downloads/endfb-vii.1-hdf5/neutron/Pd104.h5\n",
      " Reading Pd105 from /home/orion/Downloads/endfb-vii.1-hdf5/neutron/Pd105.h5\n",
      " Reading Pd106 from /home/orion/Downloads/endfb-vii.1-hdf5/neutron/Pd106.h5\n",
      " Reading Pd107 from /home/orion/Downloads/endfb-vii.1-hdf5/neutron/Pd107.h5\n",
      " Reading Pd108 from /home/orion/Downloads/endfb-vii.1-hdf5/neutron/Pd108.h5\n",
      " Reading Pd110 from /home/orion/Downloads/endfb-vii.1-hdf5/neutron/Pd110.h5\n",
      " Reading Ag107 from /home/orion/Downloads/endfb-vii.1-hdf5/neutron/Ag107.h5\n",
      " Reading Ag109 from /home/orion/Downloads/endfb-vii.1-hdf5/neutron/Ag109.h5\n",
      " Reading Ag110_m1 from\n",
      " /home/orion/Downloads/endfb-vii.1-hdf5/neutron/Ag110_m1.h5\n",
      " Reading Ag111 from /home/orion/Downloads/endfb-vii.1-hdf5/neutron/Ag111.h5\n",
      " Reading Cd106 from /home/orion/Downloads/endfb-vii.1-hdf5/neutron/Cd106.h5\n",
      " Reading Cd108 from /home/orion/Downloads/endfb-vii.1-hdf5/neutron/Cd108.h5\n",
      " Reading Cd110 from /home/orion/Downloads/endfb-vii.1-hdf5/neutron/Cd110.h5\n",
      " Reading Cd111 from /home/orion/Downloads/endfb-vii.1-hdf5/neutron/Cd111.h5\n",
      " Reading Cd112 from /home/orion/Downloads/endfb-vii.1-hdf5/neutron/Cd112.h5\n",
      " Reading Cd113 from /home/orion/Downloads/endfb-vii.1-hdf5/neutron/Cd113.h5\n"
     ]
    },
    {
     "name": "stderr",
     "output_type": "stream",
     "text": [
      " WARNING: Negative value(s) found on probability table for nuclide Cd106 at 250K\n",
      " WARNING: Negative value(s) found on probability table for nuclide Cd106 at 294K\n",
      " WARNING: Negative value(s) found on probability table for nuclide Cd106 at 600K\n",
      " WARNING: Negative value(s) found on probability table for nuclide Cd106 at 900K\n",
      " WARNING: Negative value(s) found on probability table for nuclide Cd106 at\n",
      "          1200K\n",
      " WARNING: Negative value(s) found on probability table for nuclide Cd106 at\n",
      "          2500K\n"
     ]
    },
    {
     "name": "stdout",
     "output_type": "stream",
     "text": [
      " Reading Cd114 from /home/orion/Downloads/endfb-vii.1-hdf5/neutron/Cd114.h5\n",
      " Reading Cd115_m1 from\n",
      " /home/orion/Downloads/endfb-vii.1-hdf5/neutron/Cd115_m1.h5\n",
      " Reading Cd116 from /home/orion/Downloads/endfb-vii.1-hdf5/neutron/Cd116.h5\n",
      " Reading In113 from /home/orion/Downloads/endfb-vii.1-hdf5/neutron/In113.h5\n",
      " Reading In115 from /home/orion/Downloads/endfb-vii.1-hdf5/neutron/In115.h5\n",
      " Reading Sn112 from /home/orion/Downloads/endfb-vii.1-hdf5/neutron/Sn112.h5\n",
      " Reading Sn113 from /home/orion/Downloads/endfb-vii.1-hdf5/neutron/Sn113.h5\n",
      " Reading Sn114 from /home/orion/Downloads/endfb-vii.1-hdf5/neutron/Sn114.h5\n",
      " Reading Sn115 from /home/orion/Downloads/endfb-vii.1-hdf5/neutron/Sn115.h5\n",
      " Reading Sn116 from /home/orion/Downloads/endfb-vii.1-hdf5/neutron/Sn116.h5\n",
      " Reading Sn117 from /home/orion/Downloads/endfb-vii.1-hdf5/neutron/Sn117.h5\n",
      " Reading Sn118 from /home/orion/Downloads/endfb-vii.1-hdf5/neutron/Sn118.h5\n",
      " Reading Sn119 from /home/orion/Downloads/endfb-vii.1-hdf5/neutron/Sn119.h5\n",
      " Reading Sn120 from /home/orion/Downloads/endfb-vii.1-hdf5/neutron/Sn120.h5\n",
      " Reading Sn122 from /home/orion/Downloads/endfb-vii.1-hdf5/neutron/Sn122.h5\n",
      " Reading Sn123 from /home/orion/Downloads/endfb-vii.1-hdf5/neutron/Sn123.h5\n",
      " Reading Sn124 from /home/orion/Downloads/endfb-vii.1-hdf5/neutron/Sn124.h5\n",
      " Reading Sn125 from /home/orion/Downloads/endfb-vii.1-hdf5/neutron/Sn125.h5\n",
      " Reading Sn126 from /home/orion/Downloads/endfb-vii.1-hdf5/neutron/Sn126.h5\n",
      " Reading Sb121 from /home/orion/Downloads/endfb-vii.1-hdf5/neutron/Sb121.h5\n",
      " Reading Sb123 from /home/orion/Downloads/endfb-vii.1-hdf5/neutron/Sb123.h5\n",
      " Reading Sb124 from /home/orion/Downloads/endfb-vii.1-hdf5/neutron/Sb124.h5\n",
      " Reading Sb125 from /home/orion/Downloads/endfb-vii.1-hdf5/neutron/Sb125.h5\n",
      " Reading Sb126 from /home/orion/Downloads/endfb-vii.1-hdf5/neutron/Sb126.h5\n"
     ]
    },
    {
     "name": "stderr",
     "output_type": "stream",
     "text": [
      " WARNING: Negative value(s) found on probability table for nuclide Sn123 at 250K\n",
      " WARNING: Negative value(s) found on probability table for nuclide Sn123 at 294K\n",
      " WARNING: Negative value(s) found on probability table for nuclide Sn123 at 600K\n",
      " WARNING: Negative value(s) found on probability table for nuclide Sn123 at 900K\n",
      " WARNING: Negative value(s) found on probability table for nuclide Sn123 at\n",
      "          1200K\n",
      " WARNING: Negative value(s) found on probability table for nuclide Sn123 at\n",
      "          2500K\n"
     ]
    },
    {
     "name": "stdout",
     "output_type": "stream",
     "text": [
      " Reading Te120 from /home/orion/Downloads/endfb-vii.1-hdf5/neutron/Te120.h5\n",
      " Reading Te122 from /home/orion/Downloads/endfb-vii.1-hdf5/neutron/Te122.h5\n",
      " Reading Te123 from /home/orion/Downloads/endfb-vii.1-hdf5/neutron/Te123.h5\n",
      " Reading Te124 from /home/orion/Downloads/endfb-vii.1-hdf5/neutron/Te124.h5\n",
      " Reading Te125 from /home/orion/Downloads/endfb-vii.1-hdf5/neutron/Te125.h5\n",
      " Reading Te126 from /home/orion/Downloads/endfb-vii.1-hdf5/neutron/Te126.h5\n",
      " Reading Te127_m1 from\n",
      " /home/orion/Downloads/endfb-vii.1-hdf5/neutron/Te127_m1.h5\n",
      " Reading Te128 from /home/orion/Downloads/endfb-vii.1-hdf5/neutron/Te128.h5\n",
      " Reading Te129_m1 from\n",
      " /home/orion/Downloads/endfb-vii.1-hdf5/neutron/Te129_m1.h5\n"
     ]
    },
    {
     "name": "stderr",
     "output_type": "stream",
     "text": [
      " WARNING: Negative value(s) found on probability table for nuclide Te120 at 600K\n",
      " WARNING: Negative value(s) found on probability table for nuclide Te120 at 900K\n",
      " WARNING: Negative value(s) found on probability table for nuclide Te120 at\n",
      "          1200K\n",
      " WARNING: Negative value(s) found on probability table for nuclide Te120 at\n",
      "          2500K\n"
     ]
    },
    {
     "name": "stdout",
     "output_type": "stream",
     "text": [
      " Reading Te130 from /home/orion/Downloads/endfb-vii.1-hdf5/neutron/Te130.h5\n",
      " Reading Te132 from /home/orion/Downloads/endfb-vii.1-hdf5/neutron/Te132.h5\n",
      " Reading I127 from /home/orion/Downloads/endfb-vii.1-hdf5/neutron/I127.h5\n",
      " Reading I129 from /home/orion/Downloads/endfb-vii.1-hdf5/neutron/I129.h5\n",
      " Reading I130 from /home/orion/Downloads/endfb-vii.1-hdf5/neutron/I130.h5\n",
      " Reading I131 from /home/orion/Downloads/endfb-vii.1-hdf5/neutron/I131.h5\n",
      " Reading I135 from /home/orion/Downloads/endfb-vii.1-hdf5/neutron/I135.h5\n",
      " Reading Xe123 from /home/orion/Downloads/endfb-vii.1-hdf5/neutron/Xe123.h5\n",
      " Reading Xe124 from /home/orion/Downloads/endfb-vii.1-hdf5/neutron/Xe124.h5\n"
     ]
    },
    {
     "name": "stderr",
     "output_type": "stream",
     "text": [
      " WARNING: Negative value(s) found on probability table for nuclide I131 at 250K\n",
      " WARNING: Negative value(s) found on probability table for nuclide I131 at 294K\n",
      " WARNING: Negative value(s) found on probability table for nuclide I131 at 600K\n",
      " WARNING: Negative value(s) found on probability table for nuclide I131 at 900K\n",
      " WARNING: Negative value(s) found on probability table for nuclide I131 at 1200K\n",
      " WARNING: Negative value(s) found on probability table for nuclide I131 at 2500K\n"
     ]
    },
    {
     "name": "stdout",
     "output_type": "stream",
     "text": [
      " Reading Xe126 from /home/orion/Downloads/endfb-vii.1-hdf5/neutron/Xe126.h5\n",
      " Reading Xe128 from /home/orion/Downloads/endfb-vii.1-hdf5/neutron/Xe128.h5\n",
      " Reading Xe129 from /home/orion/Downloads/endfb-vii.1-hdf5/neutron/Xe129.h5\n",
      " Reading Xe130 from /home/orion/Downloads/endfb-vii.1-hdf5/neutron/Xe130.h5\n",
      " Reading Xe131 from /home/orion/Downloads/endfb-vii.1-hdf5/neutron/Xe131.h5\n",
      " Reading Xe132 from /home/orion/Downloads/endfb-vii.1-hdf5/neutron/Xe132.h5\n",
      " Reading Xe133 from /home/orion/Downloads/endfb-vii.1-hdf5/neutron/Xe133.h5\n"
     ]
    },
    {
     "name": "stderr",
     "output_type": "stream",
     "text": [
      " WARNING: Negative value(s) found on probability table for nuclide Xe133 at\n",
      "          2500K\n",
      " WARNING: Negative value(s) found on probability table for nuclide Cs136 at 250K\n",
      " WARNING: Negative value(s) found on probability table for nuclide Cs136 at 294K\n",
      " WARNING: Negative value(s) found on probability table for nuclide Cs136 at 600K\n",
      " WARNING: Negative value(s) found on probability table for nuclide Cs136 at 900K\n",
      " WARNING: Negative value(s) found on probability table for nuclide Cs136 at\n",
      "          1200K\n",
      " WARNING: Negative value(s) found on probability table for nuclide Cs136 at\n",
      "          2500K\n"
     ]
    },
    {
     "name": "stdout",
     "output_type": "stream",
     "text": [
      " Reading Xe134 from /home/orion/Downloads/endfb-vii.1-hdf5/neutron/Xe134.h5\n",
      " Reading Xe135 from /home/orion/Downloads/endfb-vii.1-hdf5/neutron/Xe135.h5\n",
      " Reading Xe136 from /home/orion/Downloads/endfb-vii.1-hdf5/neutron/Xe136.h5\n",
      " Reading Cs133 from /home/orion/Downloads/endfb-vii.1-hdf5/neutron/Cs133.h5\n",
      " Reading Cs134 from /home/orion/Downloads/endfb-vii.1-hdf5/neutron/Cs134.h5\n",
      " Reading Cs135 from /home/orion/Downloads/endfb-vii.1-hdf5/neutron/Cs135.h5\n",
      " Reading Cs136 from /home/orion/Downloads/endfb-vii.1-hdf5/neutron/Cs136.h5\n",
      " Reading Cs137 from /home/orion/Downloads/endfb-vii.1-hdf5/neutron/Cs137.h5\n",
      " Reading Ba130 from /home/orion/Downloads/endfb-vii.1-hdf5/neutron/Ba130.h5\n",
      " Reading Ba132 from /home/orion/Downloads/endfb-vii.1-hdf5/neutron/Ba132.h5\n",
      " Reading Ba133 from /home/orion/Downloads/endfb-vii.1-hdf5/neutron/Ba133.h5\n",
      " Reading Ba134 from /home/orion/Downloads/endfb-vii.1-hdf5/neutron/Ba134.h5\n",
      " Reading Ba135 from /home/orion/Downloads/endfb-vii.1-hdf5/neutron/Ba135.h5\n",
      " Reading Ba136 from /home/orion/Downloads/endfb-vii.1-hdf5/neutron/Ba136.h5\n",
      " Reading Ba137 from /home/orion/Downloads/endfb-vii.1-hdf5/neutron/Ba137.h5\n",
      " Reading Ba138 from /home/orion/Downloads/endfb-vii.1-hdf5/neutron/Ba138.h5\n",
      " Reading Ba140 from /home/orion/Downloads/endfb-vii.1-hdf5/neutron/Ba140.h5\n",
      " Reading La138 from /home/orion/Downloads/endfb-vii.1-hdf5/neutron/La138.h5\n",
      " Reading La139 from /home/orion/Downloads/endfb-vii.1-hdf5/neutron/La139.h5\n",
      " Reading La140 from /home/orion/Downloads/endfb-vii.1-hdf5/neutron/La140.h5\n",
      " Reading Ce136 from /home/orion/Downloads/endfb-vii.1-hdf5/neutron/Ce136.h5\n",
      " Reading Ce138 from /home/orion/Downloads/endfb-vii.1-hdf5/neutron/Ce138.h5\n",
      " Reading Ce139 from /home/orion/Downloads/endfb-vii.1-hdf5/neutron/Ce139.h5\n",
      " Reading Ce140 from /home/orion/Downloads/endfb-vii.1-hdf5/neutron/Ce140.h5\n",
      " Reading Ce141 from /home/orion/Downloads/endfb-vii.1-hdf5/neutron/Ce141.h5\n",
      " Reading Ce142 from /home/orion/Downloads/endfb-vii.1-hdf5/neutron/Ce142.h5\n",
      " Reading Ce143 from /home/orion/Downloads/endfb-vii.1-hdf5/neutron/Ce143.h5\n",
      " Reading Ce144 from /home/orion/Downloads/endfb-vii.1-hdf5/neutron/Ce144.h5\n",
      " Reading Pr141 from /home/orion/Downloads/endfb-vii.1-hdf5/neutron/Pr141.h5\n",
      " Reading Pr142 from /home/orion/Downloads/endfb-vii.1-hdf5/neutron/Pr142.h5\n",
      " Reading Pr143 from /home/orion/Downloads/endfb-vii.1-hdf5/neutron/Pr143.h5\n",
      " Reading Nd142 from /home/orion/Downloads/endfb-vii.1-hdf5/neutron/Nd142.h5\n",
      " Reading Nd143 from /home/orion/Downloads/endfb-vii.1-hdf5/neutron/Nd143.h5\n",
      " Reading Nd144 from /home/orion/Downloads/endfb-vii.1-hdf5/neutron/Nd144.h5\n",
      " Reading Nd145 from /home/orion/Downloads/endfb-vii.1-hdf5/neutron/Nd145.h5\n",
      " Reading Nd146 from /home/orion/Downloads/endfb-vii.1-hdf5/neutron/Nd146.h5\n",
      " Reading Nd147 from /home/orion/Downloads/endfb-vii.1-hdf5/neutron/Nd147.h5\n",
      " Reading Nd148 from /home/orion/Downloads/endfb-vii.1-hdf5/neutron/Nd148.h5\n",
      " Reading Nd150 from /home/orion/Downloads/endfb-vii.1-hdf5/neutron/Nd150.h5\n",
      " Reading Pm147 from /home/orion/Downloads/endfb-vii.1-hdf5/neutron/Pm147.h5\n",
      " Reading Pm148 from /home/orion/Downloads/endfb-vii.1-hdf5/neutron/Pm148.h5\n",
      " Reading Pm148_m1 from\n",
      " /home/orion/Downloads/endfb-vii.1-hdf5/neutron/Pm148_m1.h5\n",
      " Reading Pm149 from /home/orion/Downloads/endfb-vii.1-hdf5/neutron/Pm149.h5\n",
      " Reading Pm151 from /home/orion/Downloads/endfb-vii.1-hdf5/neutron/Pm151.h5\n",
      " Reading Sm144 from /home/orion/Downloads/endfb-vii.1-hdf5/neutron/Sm144.h5\n",
      " Reading Sm147 from /home/orion/Downloads/endfb-vii.1-hdf5/neutron/Sm147.h5\n",
      " Reading Sm148 from /home/orion/Downloads/endfb-vii.1-hdf5/neutron/Sm148.h5\n",
      " Reading Sm149 from /home/orion/Downloads/endfb-vii.1-hdf5/neutron/Sm149.h5\n",
      " Reading Sm150 from /home/orion/Downloads/endfb-vii.1-hdf5/neutron/Sm150.h5\n",
      " Reading Sm151 from /home/orion/Downloads/endfb-vii.1-hdf5/neutron/Sm151.h5\n",
      " Reading Sm152 from /home/orion/Downloads/endfb-vii.1-hdf5/neutron/Sm152.h5\n",
      " Reading Sm153 from /home/orion/Downloads/endfb-vii.1-hdf5/neutron/Sm153.h5\n",
      " Reading Sm154 from /home/orion/Downloads/endfb-vii.1-hdf5/neutron/Sm154.h5\n",
      " Reading Eu151 from /home/orion/Downloads/endfb-vii.1-hdf5/neutron/Eu151.h5\n",
      " Reading Eu152 from /home/orion/Downloads/endfb-vii.1-hdf5/neutron/Eu152.h5\n",
      " Reading Eu153 from /home/orion/Downloads/endfb-vii.1-hdf5/neutron/Eu153.h5\n",
      " Reading Eu154 from /home/orion/Downloads/endfb-vii.1-hdf5/neutron/Eu154.h5\n",
      " Reading Eu155 from /home/orion/Downloads/endfb-vii.1-hdf5/neutron/Eu155.h5\n",
      " Reading Eu156 from /home/orion/Downloads/endfb-vii.1-hdf5/neutron/Eu156.h5\n",
      " Reading Eu157 from /home/orion/Downloads/endfb-vii.1-hdf5/neutron/Eu157.h5\n",
      " Reading Gd152 from /home/orion/Downloads/endfb-vii.1-hdf5/neutron/Gd152.h5\n"
     ]
    },
    {
     "name": "stderr",
     "output_type": "stream",
     "text": [
      " WARNING: Negative value(s) found on probability table for nuclide Eu156 at 250K\n",
      " WARNING: Negative value(s) found on probability table for nuclide Eu156 at 294K\n",
      " WARNING: Negative value(s) found on probability table for nuclide Eu156 at 600K\n",
      " WARNING: Negative value(s) found on probability table for nuclide Eu156 at 900K\n",
      " WARNING: Negative value(s) found on probability table for nuclide Eu156 at\n",
      "          1200K\n",
      " WARNING: Negative value(s) found on probability table for nuclide Eu156 at\n",
      "          2500K\n"
     ]
    },
    {
     "name": "stdout",
     "output_type": "stream",
     "text": [
      " Reading Gd153 from /home/orion/Downloads/endfb-vii.1-hdf5/neutron/Gd153.h5\n",
      " Reading Gd154 from /home/orion/Downloads/endfb-vii.1-hdf5/neutron/Gd154.h5\n",
      " Reading Gd155 from /home/orion/Downloads/endfb-vii.1-hdf5/neutron/Gd155.h5\n",
      " Reading Gd156 from /home/orion/Downloads/endfb-vii.1-hdf5/neutron/Gd156.h5\n",
      " Reading Gd157 from /home/orion/Downloads/endfb-vii.1-hdf5/neutron/Gd157.h5\n",
      " Reading Gd158 from /home/orion/Downloads/endfb-vii.1-hdf5/neutron/Gd158.h5\n",
      " Reading Gd160 from /home/orion/Downloads/endfb-vii.1-hdf5/neutron/Gd160.h5\n",
      " Reading Tb159 from /home/orion/Downloads/endfb-vii.1-hdf5/neutron/Tb159.h5\n",
      " Reading Tb160 from /home/orion/Downloads/endfb-vii.1-hdf5/neutron/Tb160.h5\n",
      " Reading Dy156 from /home/orion/Downloads/endfb-vii.1-hdf5/neutron/Dy156.h5\n",
      " Reading Dy158 from /home/orion/Downloads/endfb-vii.1-hdf5/neutron/Dy158.h5\n",
      " Reading Dy160 from /home/orion/Downloads/endfb-vii.1-hdf5/neutron/Dy160.h5\n",
      " Reading Dy161 from /home/orion/Downloads/endfb-vii.1-hdf5/neutron/Dy161.h5\n",
      " Reading Dy162 from /home/orion/Downloads/endfb-vii.1-hdf5/neutron/Dy162.h5\n",
      " Reading Dy163 from /home/orion/Downloads/endfb-vii.1-hdf5/neutron/Dy163.h5\n",
      " Reading Dy164 from /home/orion/Downloads/endfb-vii.1-hdf5/neutron/Dy164.h5\n",
      " Reading Ho165 from /home/orion/Downloads/endfb-vii.1-hdf5/neutron/Ho165.h5\n",
      " Reading Ho166_m1 from\n",
      " /home/orion/Downloads/endfb-vii.1-hdf5/neutron/Ho166_m1.h5\n",
      " Reading Er162 from /home/orion/Downloads/endfb-vii.1-hdf5/neutron/Er162.h5\n",
      " Reading Er164 from /home/orion/Downloads/endfb-vii.1-hdf5/neutron/Er164.h5\n",
      " Reading Er166 from /home/orion/Downloads/endfb-vii.1-hdf5/neutron/Er166.h5\n",
      " Reading Er167 from /home/orion/Downloads/endfb-vii.1-hdf5/neutron/Er167.h5\n",
      " Reading Er168 from /home/orion/Downloads/endfb-vii.1-hdf5/neutron/Er168.h5\n",
      " Reading Er170 from /home/orion/Downloads/endfb-vii.1-hdf5/neutron/Er170.h5\n",
      " Reading Tm168 from /home/orion/Downloads/endfb-vii.1-hdf5/neutron/Tm168.h5\n",
      " Reading Tm169 from /home/orion/Downloads/endfb-vii.1-hdf5/neutron/Tm169.h5\n",
      " Reading Tm170 from /home/orion/Downloads/endfb-vii.1-hdf5/neutron/Tm170.h5\n",
      " Reading Lu175 from /home/orion/Downloads/endfb-vii.1-hdf5/neutron/Lu175.h5\n",
      " Reading Lu176 from /home/orion/Downloads/endfb-vii.1-hdf5/neutron/Lu176.h5\n",
      " Reading Hf174 from /home/orion/Downloads/endfb-vii.1-hdf5/neutron/Hf174.h5\n",
      " Reading Hf176 from /home/orion/Downloads/endfb-vii.1-hdf5/neutron/Hf176.h5\n",
      " Reading Hf177 from /home/orion/Downloads/endfb-vii.1-hdf5/neutron/Hf177.h5\n",
      " Reading Hf178 from /home/orion/Downloads/endfb-vii.1-hdf5/neutron/Hf178.h5\n",
      " Reading Hf179 from /home/orion/Downloads/endfb-vii.1-hdf5/neutron/Hf179.h5\n",
      " Reading Hf180 from /home/orion/Downloads/endfb-vii.1-hdf5/neutron/Hf180.h5\n",
      " Reading Ta180 from /home/orion/Downloads/endfb-vii.1-hdf5/neutron/Ta180.h5\n",
      " Reading Ta181 from /home/orion/Downloads/endfb-vii.1-hdf5/neutron/Ta181.h5\n",
      " Reading Ta182 from /home/orion/Downloads/endfb-vii.1-hdf5/neutron/Ta182.h5\n",
      " Reading W180 from /home/orion/Downloads/endfb-vii.1-hdf5/neutron/W180.h5\n",
      " Reading W182 from /home/orion/Downloads/endfb-vii.1-hdf5/neutron/W182.h5\n",
      " Reading W183 from /home/orion/Downloads/endfb-vii.1-hdf5/neutron/W183.h5\n",
      " Reading W184 from /home/orion/Downloads/endfb-vii.1-hdf5/neutron/W184.h5\n",
      " Reading W186 from /home/orion/Downloads/endfb-vii.1-hdf5/neutron/W186.h5\n",
      " Reading Re185 from /home/orion/Downloads/endfb-vii.1-hdf5/neutron/Re185.h5\n",
      " Reading Re187 from /home/orion/Downloads/endfb-vii.1-hdf5/neutron/Re187.h5\n",
      " Reading Ir191 from /home/orion/Downloads/endfb-vii.1-hdf5/neutron/Ir191.h5\n",
      " Reading Ir193 from /home/orion/Downloads/endfb-vii.1-hdf5/neutron/Ir193.h5\n",
      " Reading Au197 from /home/orion/Downloads/endfb-vii.1-hdf5/neutron/Au197.h5\n",
      " Reading Hg196 from /home/orion/Downloads/endfb-vii.1-hdf5/neutron/Hg196.h5\n",
      " Reading Hg198 from /home/orion/Downloads/endfb-vii.1-hdf5/neutron/Hg198.h5\n",
      " Reading Hg199 from /home/orion/Downloads/endfb-vii.1-hdf5/neutron/Hg199.h5\n",
      " Reading Hg200 from /home/orion/Downloads/endfb-vii.1-hdf5/neutron/Hg200.h5\n",
      " Reading Hg201 from /home/orion/Downloads/endfb-vii.1-hdf5/neutron/Hg201.h5\n",
      " Reading Hg202 from /home/orion/Downloads/endfb-vii.1-hdf5/neutron/Hg202.h5\n",
      " Reading Hg204 from /home/orion/Downloads/endfb-vii.1-hdf5/neutron/Hg204.h5\n",
      " Reading Tl203 from /home/orion/Downloads/endfb-vii.1-hdf5/neutron/Tl203.h5\n",
      " Reading Tl205 from /home/orion/Downloads/endfb-vii.1-hdf5/neutron/Tl205.h5\n",
      " Reading Bi209 from /home/orion/Downloads/endfb-vii.1-hdf5/neutron/Bi209.h5\n",
      " Reading Ra223 from /home/orion/Downloads/endfb-vii.1-hdf5/neutron/Ra223.h5\n",
      " Reading Ra224 from /home/orion/Downloads/endfb-vii.1-hdf5/neutron/Ra224.h5\n",
      " Reading Ra225 from /home/orion/Downloads/endfb-vii.1-hdf5/neutron/Ra225.h5\n",
      " Reading Ra226 from /home/orion/Downloads/endfb-vii.1-hdf5/neutron/Ra226.h5\n",
      " Reading Ac225 from /home/orion/Downloads/endfb-vii.1-hdf5/neutron/Ac225.h5\n",
      " Reading Ac226 from /home/orion/Downloads/endfb-vii.1-hdf5/neutron/Ac226.h5\n",
      " Reading Ac227 from /home/orion/Downloads/endfb-vii.1-hdf5/neutron/Ac227.h5\n",
      " Reading Th227 from /home/orion/Downloads/endfb-vii.1-hdf5/neutron/Th227.h5\n",
      " Reading Th228 from /home/orion/Downloads/endfb-vii.1-hdf5/neutron/Th228.h5\n",
      " Reading Th229 from /home/orion/Downloads/endfb-vii.1-hdf5/neutron/Th229.h5\n",
      " Reading Th230 from /home/orion/Downloads/endfb-vii.1-hdf5/neutron/Th230.h5\n",
      " Reading Th231 from /home/orion/Downloads/endfb-vii.1-hdf5/neutron/Th231.h5\n",
      " Reading Th232 from /home/orion/Downloads/endfb-vii.1-hdf5/neutron/Th232.h5\n",
      " Reading Th233 from /home/orion/Downloads/endfb-vii.1-hdf5/neutron/Th233.h5\n",
      " Reading Th234 from /home/orion/Downloads/endfb-vii.1-hdf5/neutron/Th234.h5\n",
      " Reading Pa229 from /home/orion/Downloads/endfb-vii.1-hdf5/neutron/Pa229.h5\n",
      " Reading Pa230 from /home/orion/Downloads/endfb-vii.1-hdf5/neutron/Pa230.h5\n",
      " Reading Pa231 from /home/orion/Downloads/endfb-vii.1-hdf5/neutron/Pa231.h5\n",
      " Reading Pa232 from /home/orion/Downloads/endfb-vii.1-hdf5/neutron/Pa232.h5\n",
      " Reading Pa233 from /home/orion/Downloads/endfb-vii.1-hdf5/neutron/Pa233.h5\n",
      " Reading U230 from /home/orion/Downloads/endfb-vii.1-hdf5/neutron/U230.h5\n",
      " Reading U231 from /home/orion/Downloads/endfb-vii.1-hdf5/neutron/U231.h5\n",
      " Reading U232 from /home/orion/Downloads/endfb-vii.1-hdf5/neutron/U232.h5\n",
      " Reading U233 from /home/orion/Downloads/endfb-vii.1-hdf5/neutron/U233.h5\n",
      " Reading U237 from /home/orion/Downloads/endfb-vii.1-hdf5/neutron/U237.h5\n",
      " Reading U239 from /home/orion/Downloads/endfb-vii.1-hdf5/neutron/U239.h5\n",
      " Reading U240 from /home/orion/Downloads/endfb-vii.1-hdf5/neutron/U240.h5\n",
      " Reading U241 from /home/orion/Downloads/endfb-vii.1-hdf5/neutron/U241.h5\n",
      " Reading Np234 from /home/orion/Downloads/endfb-vii.1-hdf5/neutron/Np234.h5\n",
      " Reading Np235 from /home/orion/Downloads/endfb-vii.1-hdf5/neutron/Np235.h5\n",
      " Reading Np236 from /home/orion/Downloads/endfb-vii.1-hdf5/neutron/Np236.h5\n",
      " Reading Np237 from /home/orion/Downloads/endfb-vii.1-hdf5/neutron/Np237.h5\n",
      " Reading Np238 from /home/orion/Downloads/endfb-vii.1-hdf5/neutron/Np238.h5\n",
      " Reading Np239 from /home/orion/Downloads/endfb-vii.1-hdf5/neutron/Np239.h5\n",
      " Reading Pu236 from /home/orion/Downloads/endfb-vii.1-hdf5/neutron/Pu236.h5\n",
      " Reading Pu237 from /home/orion/Downloads/endfb-vii.1-hdf5/neutron/Pu237.h5\n",
      " Reading Pu243 from /home/orion/Downloads/endfb-vii.1-hdf5/neutron/Pu243.h5\n",
      " Reading Pu244 from /home/orion/Downloads/endfb-vii.1-hdf5/neutron/Pu244.h5\n",
      " Reading Pu246 from /home/orion/Downloads/endfb-vii.1-hdf5/neutron/Pu246.h5\n",
      " Reading Am240 from /home/orion/Downloads/endfb-vii.1-hdf5/neutron/Am240.h5\n",
      " Reading Am241 from /home/orion/Downloads/endfb-vii.1-hdf5/neutron/Am241.h5\n",
      " Reading Am242 from /home/orion/Downloads/endfb-vii.1-hdf5/neutron/Am242.h5\n",
      " Reading Am242_m1 from\n",
      " /home/orion/Downloads/endfb-vii.1-hdf5/neutron/Am242_m1.h5\n",
      " Reading Am243 from /home/orion/Downloads/endfb-vii.1-hdf5/neutron/Am243.h5\n",
      " Reading Am244 from /home/orion/Downloads/endfb-vii.1-hdf5/neutron/Am244.h5\n",
      " Reading Am244_m1 from\n",
      " /home/orion/Downloads/endfb-vii.1-hdf5/neutron/Am244_m1.h5\n",
      " Reading Cm240 from /home/orion/Downloads/endfb-vii.1-hdf5/neutron/Cm240.h5\n",
      " Reading Cm241 from /home/orion/Downloads/endfb-vii.1-hdf5/neutron/Cm241.h5\n",
      " Reading Cm242 from /home/orion/Downloads/endfb-vii.1-hdf5/neutron/Cm242.h5\n",
      " Reading Cm243 from /home/orion/Downloads/endfb-vii.1-hdf5/neutron/Cm243.h5\n",
      " Reading Cm244 from /home/orion/Downloads/endfb-vii.1-hdf5/neutron/Cm244.h5\n",
      " Reading Cm245 from /home/orion/Downloads/endfb-vii.1-hdf5/neutron/Cm245.h5\n",
      " Reading Cm246 from /home/orion/Downloads/endfb-vii.1-hdf5/neutron/Cm246.h5\n",
      " Reading Cm247 from /home/orion/Downloads/endfb-vii.1-hdf5/neutron/Cm247.h5\n",
      " Reading Cm248 from /home/orion/Downloads/endfb-vii.1-hdf5/neutron/Cm248.h5\n",
      " Reading Cm249 from /home/orion/Downloads/endfb-vii.1-hdf5/neutron/Cm249.h5\n",
      " Reading Cm250 from /home/orion/Downloads/endfb-vii.1-hdf5/neutron/Cm250.h5\n",
      " Reading Bk245 from /home/orion/Downloads/endfb-vii.1-hdf5/neutron/Bk245.h5\n",
      " Reading Bk246 from /home/orion/Downloads/endfb-vii.1-hdf5/neutron/Bk246.h5\n",
      " Reading Bk247 from /home/orion/Downloads/endfb-vii.1-hdf5/neutron/Bk247.h5\n",
      " Reading Bk248 from /home/orion/Downloads/endfb-vii.1-hdf5/neutron/Bk248.h5\n",
      " Reading Bk249 from /home/orion/Downloads/endfb-vii.1-hdf5/neutron/Bk249.h5\n",
      " Reading Bk250 from /home/orion/Downloads/endfb-vii.1-hdf5/neutron/Bk250.h5\n",
      " Reading Cf246 from /home/orion/Downloads/endfb-vii.1-hdf5/neutron/Cf246.h5\n",
      " Reading Cf248 from /home/orion/Downloads/endfb-vii.1-hdf5/neutron/Cf248.h5\n",
      " Reading Cf249 from /home/orion/Downloads/endfb-vii.1-hdf5/neutron/Cf249.h5\n",
      " Reading Cf250 from /home/orion/Downloads/endfb-vii.1-hdf5/neutron/Cf250.h5\n",
      " Reading Cf251 from /home/orion/Downloads/endfb-vii.1-hdf5/neutron/Cf251.h5\n",
      " Reading Cf252 from /home/orion/Downloads/endfb-vii.1-hdf5/neutron/Cf252.h5\n"
     ]
    },
    {
     "name": "stderr",
     "output_type": "stream",
     "text": [
      " WARNING: Negative value(s) found on probability table for nuclide Cf250 at 250K\n",
      " WARNING: Negative value(s) found on probability table for nuclide Cf250 at 294K\n",
      " WARNING: Negative value(s) found on probability table for nuclide Cf250 at 900K\n",
      " WARNING: Negative value(s) found on probability table for nuclide Cf250 at\n",
      "          1200K\n"
     ]
    },
    {
     "name": "stdout",
     "output_type": "stream",
     "text": [
      " Reading Cf253 from /home/orion/Downloads/endfb-vii.1-hdf5/neutron/Cf253.h5\n",
      " Reading Cf254 from /home/orion/Downloads/endfb-vii.1-hdf5/neutron/Cf254.h5\n",
      " Reading Es251 from /home/orion/Downloads/endfb-vii.1-hdf5/neutron/Es251.h5\n",
      " Reading Es252 from /home/orion/Downloads/endfb-vii.1-hdf5/neutron/Es252.h5\n",
      " Reading Es253 from /home/orion/Downloads/endfb-vii.1-hdf5/neutron/Es253.h5\n",
      " Reading Es254 from /home/orion/Downloads/endfb-vii.1-hdf5/neutron/Es254.h5\n",
      " Reading Es254_m1 from\n",
      " /home/orion/Downloads/endfb-vii.1-hdf5/neutron/Es254_m1.h5\n",
      " Reading Es255 from /home/orion/Downloads/endfb-vii.1-hdf5/neutron/Es255.h5\n",
      " Reading Fm255 from /home/orion/Downloads/endfb-vii.1-hdf5/neutron/Fm255.h5\n",
      " Maximum neutron transport energy: 8100000 eV for Be7\n"
     ]
    },
    {
     "name": "stderr",
     "output_type": "stream",
     "text": [
      " WARNING: Maximum neutron energy is below 20 MeV. This may bias the results.\n"
     ]
    }
   ],
   "source": [
    "integrator.integrate()"
   ]
  },
  {
   "cell_type": "code",
   "execution_count": null,
   "id": "fac87455-9bdd-4e94-aa9a-1e4f2545ed2f",
   "metadata": {},
   "outputs": [],
   "source": [
    "results = openmc.deplete.Results(\"./depletion_results.h5\")"
   ]
  },
  {
   "cell_type": "code",
   "execution_count": null,
   "id": "3d5141ce-b8ea-485f-8d32-2244f90084f7",
   "metadata": {},
   "outputs": [],
   "source": [
    "time, k = results.get_keff()"
   ]
  },
  {
   "cell_type": "code",
   "execution_count": null,
   "id": "d430a8ae-5d6e-4e92-a058-b19950371804",
   "metadata": {},
   "outputs": [],
   "source": [
    "time /= (24 * 60 * 60)  # convert back to days from seconds"
   ]
  },
  {
   "cell_type": "code",
   "execution_count": null,
   "id": "452de6e9-a9c7-4c6e-9da2-7d5bf3ef32f6",
   "metadata": {},
   "outputs": [],
   "source": [
    "plt.errorbar(time, k[:, 0], yerr=k[:, 1])\n",
    "plt.xlabel(\"Time [d]\")\n",
    "plt.ylabel(\"$k_{eff}\\pm \\sigma$\");"
   ]
  },
  {
   "cell_type": "code",
   "execution_count": null,
   "id": "7ac7aa11-794e-47a5-8e7a-8406b979138e",
   "metadata": {},
   "outputs": [],
   "source": [
    "_, u235 = results.get_atoms(\"1\", \"U235\")\n",
    "_, xe135 = results.get_atoms(\"1\", \"Xe135\")\n",
    "_,he4=results.get_atoms(\"2\",\"He4\")\n",
    "_,ni58=results.get_atoms(\"2\",\"Ni58\")\n",
    "_,ni59=results.get_atoms(\"2\",\"Ni59\")\n",
    "_,Fe56=results.get_atoms(\"2\",\"Fe56\")\n",
    "_,u235=results.get_atoms(\"1\",\"U235\")\n",
    "_,u238=results.get_atoms(\"1\",\"U238\")\n",
    "_,pu239=results.get_atoms(\"1\",\"Pu239\")\n",
    "_,pu238=results.get_atoms(\"1\",\"Pu238\")"
   ]
  },
  {
   "cell_type": "code",
   "execution_count": null,
   "id": "ce45f9c2-674d-452b-b9d7-2722d7be8117",
   "metadata": {},
   "outputs": [],
   "source": [
    "plt.plot(time, he4*100, label=\"He4\")\n",
    "plt.xlabel(\"Time [d]\")\n",
    "plt.ylabel(\"Number of atoms - He4\");\n",
    "plt.grid()"
   ]
  },
  {
   "cell_type": "markdown",
   "id": "6244a5b2-c2a9-4799-9e24-37d936b6e04c",
   "metadata": {},
   "source": [
    "# Tallies"
   ]
  },
  {
   "cell_type": "code",
   "execution_count": null,
   "id": "c18cc40a-0b65-45f6-a44c-2e26c21069c3",
   "metadata": {},
   "outputs": [],
   "source": [
    "# Neutron spectrum\n",
    "tally_list = []\n",
    "\n",
    "n_groups = 500\n",
    "Emin = 1e-5\n",
    "Emax = 20e6\n",
    "\n",
    "energies = np.logspace(log10(Emin), log10(Emax), n_groups+1)\n",
    "\n",
    "energy_filter = openmc.EnergyFilter(energies)\n",
    "\n",
    "spectrum = openmc.Tally(name = \"Neutron Spectrum\")\n",
    "spectrum.filters = [energy_filter]\n",
    "spectrum.scores = ['flux']\n",
    "\n",
    "tally_list.append(spectrum)"
   ]
  },
  {
   "cell_type": "code",
   "execution_count": null,
   "id": "29a094d0-004d-43b1-8b56-b90666d2d4d1",
   "metadata": {},
   "outputs": [],
   "source": [
    "tallies = openmc.Tallies(tally_list)\n",
    "tallies.export_to_xml()"
   ]
  },
  {
   "cell_type": "code",
   "execution_count": null,
   "id": "30740c0d-a944-4992-a210-122735ffa5d9",
   "metadata": {},
   "outputs": [],
   "source": [
    "openmc.run()"
   ]
  },
  {
   "cell_type": "code",
   "execution_count": null,
   "id": "2b65fdc6-9031-46f9-87e9-c08fba7b3cf3",
   "metadata": {},
   "outputs": [],
   "source": [
    "sp = openmc.StatePoint('statepoint.50.h5')"
   ]
  },
  {
   "cell_type": "code",
   "execution_count": null,
   "id": "4a3d0824-dfc2-47a2-aecd-c53198dafd31",
   "metadata": {},
   "outputs": [],
   "source": [
    "# Neutron spectrum\n",
    "spectrum_tally = sp.get_tally(name = \"Neutron Spectrum\")\n",
    "\n",
    "e_filter = spectrum_tally.filters[0]\n",
    "E = e_filter.bins[:,0]\n",
    "\n",
    "spectrum_mean = spectrum_tally.get_values(value = 'mean').ravel()\n",
    "spectrum_std_dev = spectrum_tally.get_values(value = 'std_dev').ravel()\n",
    "\n",
    "# Plot\n",
    "fig, ax = plt.subplots()\n",
    "plt.errorbar(E, spectrum_mean,spectrum_std_dev, ds = 'steps')\n",
    "ax.set_xscale(\"log\")\n",
    "ax.set_yscale(\"log\")\n",
    "ax.set_xlabel(\"Energy (eV)\")\n",
    "ax.set_ylabel(\"Flux (a.u.)\")\n",
    "ax.grid(True, which = 'both')\n",
    "#plt.savefig('./energy_flux.pdf', format='pdf', dpi = 600, bbox_inches = 'tight')"
   ]
  },
  {
   "cell_type": "markdown",
   "id": "1dc44ad4-053c-429f-b281-b28d065baf98",
   "metadata": {},
   "source": [
    "# Note\n",
    "Il k-efficace è molto piccolo in quanto sto simulando un \"full-core\" quindi si deve raggiungere massa critica, come? con molti più fuel-assembly qui ce ne sono solamente 19 ma il core di ALFRED è fatto da 171FA, quindi questo è il motivo per cui non si è critici qui. Inoltre come boundary esterna ho praticamente \"vacuum\" quindi qui i neutroni li perdo!"
   ]
  },
  {
   "cell_type": "code",
   "execution_count": null,
   "id": "b6f6fb28-290d-488e-b1ea-31224b294947",
   "metadata": {},
   "outputs": [],
   "source": []
  }
 ],
 "metadata": {
  "kernelspec": {
   "display_name": "Python 3 (ipykernel)",
   "language": "python",
   "name": "python3"
  },
  "language_info": {
   "codemirror_mode": {
    "name": "ipython",
    "version": 3
   },
   "file_extension": ".py",
   "mimetype": "text/x-python",
   "name": "python",
   "nbconvert_exporter": "python",
   "pygments_lexer": "ipython3",
   "version": "3.12.7"
  }
 },
 "nbformat": 4,
 "nbformat_minor": 5
}
